{
 "cells": [
  {
   "cell_type": "code",
   "execution_count": 1,
   "id": "9e3643b0",
   "metadata": {},
   "outputs": [],
   "source": [
    "from sklearn.feature_extraction.text import CountVectorizer\n",
    "from sklearn.tree import DecisionTreeClassifier\n",
    "import pandas as pd\n",
    "import numpy as np\n",
    "import os"
   ]
  },
  {
   "cell_type": "code",
   "execution_count": 2,
   "id": "6b7f5c3a",
   "metadata": {},
   "outputs": [],
   "source": [
    "DATA_PATH = r\"data/\""
   ]
  },
  {
   "cell_type": "code",
   "execution_count": 3,
   "id": "67a4bf41",
   "metadata": {},
   "outputs": [],
   "source": [
    "def read_file(path):\n",
    "    with open(path, encoding='iso-8859-1') as handler:\n",
    "        return handler.read().split('\\n\\n', 1)[-1].strip()"
   ]
  },
  {
   "cell_type": "code",
   "execution_count": 4,
   "id": "9c74f5e5",
   "metadata": {},
   "outputs": [],
   "source": [
    "def load_data(path):\n",
    "    dictionary = {\n",
    "        'Message': [],\n",
    "        'Class': []\n",
    "    }\n",
    "\n",
    "    for category in os.listdir(path):\n",
    "        category_path = os.path.join(path, category)\n",
    "\n",
    "        for file in os.listdir(category_path):\n",
    "            file_path = os.path.join(category_path, file)\n",
    "            message = read_file(file_path)\n",
    "\n",
    "            dictionary['Message'].append(message)            \n",
    "            dictionary['Class'].append(category)\n",
    "\n",
    "    return pd.DataFrame(dictionary)"
   ]
  },
  {
   "cell_type": "code",
   "execution_count": 5,
   "id": "d0855ab4",
   "metadata": {},
   "outputs": [
    {
     "data": {
      "text/html": [
       "<div>\n",
       "<style scoped>\n",
       "    .dataframe tbody tr th:only-of-type {\n",
       "        vertical-align: middle;\n",
       "    }\n",
       "\n",
       "    .dataframe tbody tr th {\n",
       "        vertical-align: top;\n",
       "    }\n",
       "\n",
       "    .dataframe thead th {\n",
       "        text-align: right;\n",
       "    }\n",
       "</style>\n",
       "<table border=\"1\" class=\"dataframe\">\n",
       "  <thead>\n",
       "    <tr style=\"text-align: right;\">\n",
       "      <th></th>\n",
       "      <th>Message</th>\n",
       "      <th>Class</th>\n",
       "    </tr>\n",
       "  </thead>\n",
       "  <tbody>\n",
       "    <tr>\n",
       "      <th>0</th>\n",
       "      <td>Date:        Wed, 21 Aug 2002 10:54:46 -0500\\n...</td>\n",
       "      <td>normal</td>\n",
       "    </tr>\n",
       "    <tr>\n",
       "      <th>1</th>\n",
       "      <td>Martin A posted:\\nTassos Papadopoulos, the Gre...</td>\n",
       "      <td>normal</td>\n",
       "    </tr>\n",
       "    <tr>\n",
       "      <th>2</th>\n",
       "      <td>Man Threatens Explosion In Moscow \\n\\nThursday...</td>\n",
       "      <td>normal</td>\n",
       "    </tr>\n",
       "    <tr>\n",
       "      <th>3</th>\n",
       "      <td>Klez: The Virus That Won't Die\\n \\nAlready the...</td>\n",
       "      <td>normal</td>\n",
       "    </tr>\n",
       "    <tr>\n",
       "      <th>4</th>\n",
       "      <td>&gt;  in adding cream to spaghetti carbonara, whi...</td>\n",
       "      <td>normal</td>\n",
       "    </tr>\n",
       "  </tbody>\n",
       "</table>\n",
       "</div>"
      ],
      "text/plain": [
       "                                             Message   Class\n",
       "0  Date:        Wed, 21 Aug 2002 10:54:46 -0500\\n...  normal\n",
       "1  Martin A posted:\\nTassos Papadopoulos, the Gre...  normal\n",
       "2  Man Threatens Explosion In Moscow \\n\\nThursday...  normal\n",
       "3  Klez: The Virus That Won't Die\\n \\nAlready the...  normal\n",
       "4  >  in adding cream to spaghetti carbonara, whi...  normal"
      ]
     },
     "execution_count": 5,
     "metadata": {},
     "output_type": "execute_result"
    }
   ],
   "source": [
    "df = load_data(DATA_PATH)\n",
    "df.head()"
   ]
  },
  {
   "cell_type": "code",
   "execution_count": 6,
   "id": "d66eaa55",
   "metadata": {},
   "outputs": [
    {
     "data": {
      "text/html": [
       "<div>\n",
       "<style scoped>\n",
       "    .dataframe tbody tr th:only-of-type {\n",
       "        vertical-align: middle;\n",
       "    }\n",
       "\n",
       "    .dataframe tbody tr th {\n",
       "        vertical-align: top;\n",
       "    }\n",
       "\n",
       "    .dataframe thead th {\n",
       "        text-align: right;\n",
       "    }\n",
       "</style>\n",
       "<table border=\"1\" class=\"dataframe\">\n",
       "  <thead>\n",
       "    <tr style=\"text-align: right;\">\n",
       "      <th></th>\n",
       "      <th>Message</th>\n",
       "      <th>Class</th>\n",
       "      <th>Target</th>\n",
       "    </tr>\n",
       "  </thead>\n",
       "  <tbody>\n",
       "    <tr>\n",
       "      <th>2995</th>\n",
       "      <td>&lt;html&gt;\\n&lt;head&gt;\\n&lt;title&gt;Toy&lt;/title&gt;\\n&lt;/head&gt;\\n&lt;...</td>\n",
       "      <td>spam</td>\n",
       "      <td>1</td>\n",
       "    </tr>\n",
       "    <tr>\n",
       "      <th>2996</th>\n",
       "      <td>&lt;html&gt;\\n&lt;head&gt;\\n&lt;title&gt;Untitled Document&lt;/titl...</td>\n",
       "      <td>spam</td>\n",
       "      <td>1</td>\n",
       "    </tr>\n",
       "    <tr>\n",
       "      <th>2997</th>\n",
       "      <td>This is an HTML email message.  If you see thi...</td>\n",
       "      <td>spam</td>\n",
       "      <td>1</td>\n",
       "    </tr>\n",
       "    <tr>\n",
       "      <th>2998</th>\n",
       "      <td>&lt;html&gt;\\n&lt;head&gt;\\n&lt;/head&gt;\\n  &lt;body background=\"h...</td>\n",
       "      <td>spam</td>\n",
       "      <td>1</td>\n",
       "    </tr>\n",
       "    <tr>\n",
       "      <th>2999</th>\n",
       "      <td>&lt;STYLE type=\"text/css\"&gt;\\n&lt;!--\\nP{\\n  font-size...</td>\n",
       "      <td>spam</td>\n",
       "      <td>1</td>\n",
       "    </tr>\n",
       "  </tbody>\n",
       "</table>\n",
       "</div>"
      ],
      "text/plain": [
       "                                                Message Class  Target\n",
       "2995  <html>\\n<head>\\n<title>Toy</title>\\n</head>\\n<...  spam       1\n",
       "2996  <html>\\n<head>\\n<title>Untitled Document</titl...  spam       1\n",
       "2997  This is an HTML email message.  If you see thi...  spam       1\n",
       "2998  <html>\\n<head>\\n</head>\\n  <body background=\"h...  spam       1\n",
       "2999  <STYLE type=\"text/css\">\\n<!--\\nP{\\n  font-size...  spam       1"
      ]
     },
     "execution_count": 6,
     "metadata": {},
     "output_type": "execute_result"
    }
   ],
   "source": [
    "df['Target'] = np.where(df['Class'] == 'spam', 1, 0)\n",
    "df.tail()"
   ]
  },
  {
   "cell_type": "code",
   "execution_count": 7,
   "id": "11517434",
   "metadata": {},
   "outputs": [],
   "source": [
    "X = df['Message']\n",
    "y = df['Target']"
   ]
  },
  {
   "cell_type": "code",
   "execution_count": 8,
   "id": "a93d4fed",
   "metadata": {},
   "outputs": [],
   "source": [
    "vectorizer = CountVectorizer().fit(X)\n",
    "X = vectorizer.transform(X)"
   ]
  },
  {
   "cell_type": "code",
   "execution_count": 9,
   "id": "9a139a79",
   "metadata": {},
   "outputs": [
    {
     "data": {
      "text/plain": [
       "DecisionTreeClassifier()"
      ]
     },
     "execution_count": 9,
     "metadata": {},
     "output_type": "execute_result"
    }
   ],
   "source": [
    "classifier = DecisionTreeClassifier()\n",
    "classifier.fit(X, y)"
   ]
  },
  {
   "cell_type": "code",
   "execution_count": 10,
   "id": "45e705db",
   "metadata": {},
   "outputs": [],
   "source": [
    "sentences = [\n",
    "    'Hello dear friend, I think you would like this new product.',\n",
    "    'Congratulation my classmate! I am very happy to see your new marks',\n",
    "    \"\"\"Have you ever tried to do things automatically? \n",
    "    watch this new unveil of the new offer for our company with its new participant right now \n",
    "    our goal is to make our dear customers comfortable & happy\n",
    "    you can use bellow discount-codes (specially for you)\"\"\"\n",
    "]\n",
    "\n",
    "test_data = vectorizer.transform(sentences)"
   ]
  },
  {
   "cell_type": "code",
   "execution_count": 11,
   "id": "c7c149fc",
   "metadata": {},
   "outputs": [
    {
     "data": {
      "text/plain": [
       "array([1, 0, 1])"
      ]
     },
     "execution_count": 11,
     "metadata": {},
     "output_type": "execute_result"
    }
   ],
   "source": [
    "classifier.predict(test_data)"
   ]
  }
 ],
 "metadata": {
  "kernelspec": {
   "display_name": "Python 3 (ipykernel)",
   "language": "python",
   "name": "python3"
  },
  "language_info": {
   "codemirror_mode": {
    "name": "ipython",
    "version": 3
   },
   "file_extension": ".py",
   "mimetype": "text/x-python",
   "name": "python",
   "nbconvert_exporter": "python",
   "pygments_lexer": "ipython3",
   "version": "3.10.0"
  }
 },
 "nbformat": 4,
 "nbformat_minor": 5
}
