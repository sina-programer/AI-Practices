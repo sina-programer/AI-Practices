{
 "cells": [
  {
   "cell_type": "code",
   "execution_count": 1,
   "id": "a3dd70a0-01c8-4d4e-a2e9-03a16f4d0ecd",
   "metadata": {},
   "outputs": [],
   "source": [
    "from tensorflow.keras.models import load_model\n",
    "import numpy as np\n",
    "\n",
    "import functions"
   ]
  },
  {
   "cell_type": "code",
   "execution_count": 2,
   "id": "fe676f2b-86f1-492d-9865-81eabd801cee",
   "metadata": {},
   "outputs": [],
   "source": [
    "X = [\n",
    "    ' 20+ 3+3',\n",
    "    '3- 1 - 5  ',\n",
    "    '22 +11 - 2 ',\n",
    "    ' 45 -35+ 5  ',\n",
    "    ' 2+20-2 '\n",
    "]"
   ]
  },
  {
   "cell_type": "code",
   "execution_count": 3,
   "id": "39421f68-9313-4ef9-b52d-cf8c9549f18d",
   "metadata": {},
   "outputs": [],
   "source": [
    "y = [str(abs(eval(x))) for x in X]  # calculate y as str\n",
    "max_len = max(list(map(len, y)))\n",
    "y = list(map(lambda x: format(x, f\">{max_len}\"), y))  # set y lengthes to max_len"
   ]
  },
  {
   "cell_type": "code",
   "execution_count": 4,
   "id": "328c5207-9a03-43f9-b2b5-cdf33e57500a",
   "metadata": {},
   "outputs": [],
   "source": [
    "model = load_model('checkpoint.h5')"
   ]
  },
  {
   "cell_type": "code",
   "execution_count": 5,
   "id": "746bde99-fe69-471d-ad3d-73681132834c",
   "metadata": {},
   "outputs": [],
   "source": [
    "y_pred = functions.predict(X, model)"
   ]
  },
  {
   "cell_type": "code",
   "execution_count": 6,
   "id": "6bc0303e-1451-4d78-8371-d94fb4ab1078",
   "metadata": {},
   "outputs": [
    {
     "data": {
      "text/plain": [
       "[(26, 26), (3, 3), (31, 31), (15, 15), (20, 19)]"
      ]
     },
     "execution_count": 6,
     "metadata": {},
     "output_type": "execute_result"
    }
   ],
   "source": [
    "list(zip(list(map(int, y)), list(map(int, y_pred))))"
   ]
  }
 ],
 "metadata": {
  "kernelspec": {
   "display_name": "Python 3 (ipykernel)",
   "language": "python",
   "name": "python3"
  },
  "language_info": {
   "codemirror_mode": {
    "name": "ipython",
    "version": 3
   },
   "file_extension": ".py",
   "mimetype": "text/x-python",
   "name": "python",
   "nbconvert_exporter": "python",
   "pygments_lexer": "ipython3",
   "version": "3.10.0"
  }
 },
 "nbformat": 4,
 "nbformat_minor": 5
}
