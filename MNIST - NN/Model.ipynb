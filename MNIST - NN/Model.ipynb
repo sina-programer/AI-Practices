{
 "cells": [
  {
   "cell_type": "code",
   "execution_count": 1,
   "id": "5b6c4c7d-6b9f-411c-976b-e763054a51e1",
   "metadata": {},
   "outputs": [],
   "source": [
    "from tensorflow.keras.layers import Flatten, Dense, Conv2D, MaxPool2D, ZeroPadding2D\n",
    "from tensorflow.keras.utils import to_categorical\n",
    "from tensorflow.keras.models import Sequential\n",
    "from matplotlib import pyplot as plt\n",
    "from sklearn import metrics\n",
    "\n",
    "import numpy as np\n",
    "import os"
   ]
  },
  {
   "cell_type": "code",
   "execution_count": 2,
   "id": "0131b8ae-06e8-43a3-8d14-0cdff3da8fa8",
   "metadata": {},
   "outputs": [
    {
     "name": "stdout",
     "output_type": "stream",
     "text": [
      "shape X_train:  (60000, 28, 28)\n"
     ]
    }
   ],
   "source": [
    "X_train = np.load('Data/x_train.npy')\n",
    "X_test = np.load('Data/x_test.npy')\n",
    "y_train = np.load('Data/y_train.npy')\n",
    "y_test = np.load('Data/y_test.npy')\n",
    "\n",
    "print('shape X_train: ', np.shape(X_train))"
   ]
  },
  {
   "cell_type": "code",
   "execution_count": 3,
   "id": "2dd2866c-1bcb-4002-8080-8c77c1c4a6b9",
   "metadata": {},
   "outputs": [],
   "source": [
    "# scaling data\n",
    "X_train = X_train / 255\n",
    "X_test = X_test / 255"
   ]
  },
  {
   "cell_type": "code",
   "execution_count": 4,
   "id": "e09ca749-4121-43de-aa39-c399dcd3c479",
   "metadata": {},
   "outputs": [],
   "source": [
    "# convert number to single member array(for gray image, if rgb convert to 3 member array)\n",
    "X_train = np.expand_dims(X_train, axis=3)\n",
    "X_test = np.expand_dims(X_test, axis=3)"
   ]
  },
  {
   "cell_type": "code",
   "execution_count": 5,
   "id": "039c2137-a5d2-4d0c-85c8-a98f01e48e84",
   "metadata": {},
   "outputs": [],
   "source": [
    "# One Hot Encoding y\n",
    "y_train_ohe = to_categorical(y_train)\n",
    "y_test_ohe = to_categorical(y_test)"
   ]
  },
  {
   "cell_type": "code",
   "execution_count": 6,
   "id": "e654149a-9ebb-4b78-be00-f491e2c469de",
   "metadata": {},
   "outputs": [],
   "source": [
    "simple_model = Sequential([\n",
    "    Flatten(input_shape=X_train[0].shape),\n",
    "    Dense(128, activation='relu'),\n",
    "    Dense(128, activation='relu'),\n",
    "    Dense(128, activation='relu'),\n",
    "    Dense(64, activation='relu'),\n",
    "    Dense(32, activation='relu'),\n",
    "    Dense(10, activation='softmax')\n",
    "])\n",
    "simple_model.title = 'SimpleModel'\n",
    "\n",
    "simple_model.compile(\n",
    "    optimizer='adam',\n",
    "    loss='categorical_crossentropy',\n",
    "    metrics=['accuracy']\n",
    ")"
   ]
  },
  {
   "cell_type": "code",
   "execution_count": 7,
   "id": "2f0f64b3-7240-419d-8ea1-d20c98af75d8",
   "metadata": {},
   "outputs": [],
   "source": [
    "conv_model = Sequential([\n",
    "    ZeroPadding2D(padding=(1, 1), input_shape=X_train[0].shape),\n",
    "    Conv2D(32, 3, activation='relu'),\n",
    "    MaxPool2D(pool_size=2, strides=2),\n",
    "    ZeroPadding2D(padding=(1, 1)),\n",
    "    Conv2D(64, 3, activation='relu'),\n",
    "    MaxPool2D(2, 2),\n",
    "\n",
    "    Flatten(),\n",
    "    Dense(128, activation='relu'),\n",
    "    Dense(10, activation='softmax')\n",
    "])\n",
    "conv_model.title = 'ConvModel'\n",
    "\n",
    "conv_model.compile(\n",
    "    optimizer='adam',\n",
    "    loss='categorical_crossentropy',\n",
    "    metrics=['accuracy']\n",
    ")"
   ]
  },
  {
   "cell_type": "code",
   "execution_count": 8,
   "id": "1050e4cd-20c7-4025-8fe5-db7137f7107b",
   "metadata": {},
   "outputs": [
    {
     "name": "stdout",
     "output_type": "stream",
     "text": [
      "Model: \"sequential_1\"\n",
      "_________________________________________________________________\n",
      " Layer (type)                Output Shape              Param #   \n",
      "=================================================================\n",
      " zero_padding2d (ZeroPadding  (None, 30, 30, 1)        0         \n",
      " 2D)                                                             \n",
      "                                                                 \n",
      " conv2d (Conv2D)             (None, 28, 28, 32)        320       \n",
      "                                                                 \n",
      " max_pooling2d (MaxPooling2D  (None, 14, 14, 32)       0         \n",
      " )                                                               \n",
      "                                                                 \n",
      " zero_padding2d_1 (ZeroPaddi  (None, 16, 16, 32)       0         \n",
      " ng2D)                                                           \n",
      "                                                                 \n",
      " conv2d_1 (Conv2D)           (None, 14, 14, 64)        18496     \n",
      "                                                                 \n",
      " max_pooling2d_1 (MaxPooling  (None, 7, 7, 64)         0         \n",
      " 2D)                                                             \n",
      "                                                                 \n",
      " flatten_1 (Flatten)         (None, 3136)              0         \n",
      "                                                                 \n",
      " dense_6 (Dense)             (None, 128)               401536    \n",
      "                                                                 \n",
      " dense_7 (Dense)             (None, 10)                1290      \n",
      "                                                                 \n",
      "=================================================================\n",
      "Total params: 421,642\n",
      "Trainable params: 421,642\n",
      "Non-trainable params: 0\n",
      "_________________________________________________________________\n"
     ]
    }
   ],
   "source": [
    "conv_model.summary()"
   ]
  },
  {
   "cell_type": "code",
   "execution_count": 9,
   "id": "9b7ccbbf-12a6-401f-8af3-8998352aac88",
   "metadata": {},
   "outputs": [
    {
     "name": "stdout",
     "output_type": "stream",
     "text": [
      "              SimpleModel               \n",
      "Epoch 1/15\n",
      "200/200 [==============================] - 2s 7ms/step - loss: 0.4625 - accuracy: 0.8644 - val_loss: 0.2051 - val_accuracy: 0.9368\n",
      "Epoch 2/15\n",
      "200/200 [==============================] - 1s 6ms/step - loss: 0.1538 - accuracy: 0.9550 - val_loss: 0.1202 - val_accuracy: 0.9631\n",
      "Epoch 3/15\n",
      "200/200 [==============================] - 1s 6ms/step - loss: 0.1087 - accuracy: 0.9670 - val_loss: 0.1000 - val_accuracy: 0.9691\n",
      "Epoch 4/15\n",
      "200/200 [==============================] - 1s 6ms/step - loss: 0.0822 - accuracy: 0.9749 - val_loss: 0.0877 - val_accuracy: 0.9735\n",
      "Epoch 5/15\n",
      "200/200 [==============================] - 1s 6ms/step - loss: 0.0636 - accuracy: 0.9800 - val_loss: 0.1055 - val_accuracy: 0.9665\n",
      "Epoch 6/15\n",
      "200/200 [==============================] - 1s 6ms/step - loss: 0.0531 - accuracy: 0.9836 - val_loss: 0.0829 - val_accuracy: 0.9741\n",
      "Epoch 7/15\n",
      "200/200 [==============================] - 1s 6ms/step - loss: 0.0430 - accuracy: 0.9863 - val_loss: 0.0817 - val_accuracy: 0.9759\n",
      "Epoch 8/15\n",
      "200/200 [==============================] - 1s 6ms/step - loss: 0.0332 - accuracy: 0.9897 - val_loss: 0.0890 - val_accuracy: 0.9734\n",
      "Epoch 9/15\n",
      "200/200 [==============================] - 1s 6ms/step - loss: 0.0294 - accuracy: 0.9904 - val_loss: 0.0958 - val_accuracy: 0.9746\n",
      "Epoch 10/15\n",
      "200/200 [==============================] - 1s 6ms/step - loss: 0.0271 - accuracy: 0.9915 - val_loss: 0.0914 - val_accuracy: 0.9754\n",
      "Epoch 11/15\n",
      "200/200 [==============================] - 1s 6ms/step - loss: 0.0204 - accuracy: 0.9935 - val_loss: 0.0956 - val_accuracy: 0.9778\n",
      "Epoch 12/15\n",
      "200/200 [==============================] - 1s 6ms/step - loss: 0.0192 - accuracy: 0.9940 - val_loss: 0.0985 - val_accuracy: 0.9756\n",
      "Epoch 13/15\n",
      "200/200 [==============================] - 1s 6ms/step - loss: 0.0175 - accuracy: 0.9943 - val_loss: 0.0976 - val_accuracy: 0.9767\n",
      "Epoch 14/15\n",
      "200/200 [==============================] - 1s 6ms/step - loss: 0.0198 - accuracy: 0.9932 - val_loss: 0.0954 - val_accuracy: 0.9779\n",
      "Epoch 15/15\n",
      "200/200 [==============================] - 1s 6ms/step - loss: 0.0121 - accuracy: 0.9963 - val_loss: 0.0882 - val_accuracy: 0.9792\n",
      "              precision    recall  f1-score   support\n",
      "\n",
      "           0       0.99      0.99      0.99       980\n",
      "           1       0.99      0.99      0.99      1135\n",
      "           2       0.99      0.98      0.98      1032\n",
      "           3       0.98      0.98      0.98      1010\n",
      "           4       0.97      0.99      0.98       982\n",
      "           5       0.97      0.98      0.97       892\n",
      "           6       0.98      0.98      0.98       958\n",
      "           7       0.98      0.98      0.98      1028\n",
      "           8       0.97      0.98      0.97       974\n",
      "           9       0.98      0.96      0.97      1009\n",
      "\n",
      "    accuracy                           0.98     10000\n",
      "   macro avg       0.98      0.98      0.98     10000\n",
      "weighted avg       0.98      0.98      0.98     10000\n",
      "\n"
     ]
    },
    {
     "data": {
      "image/png": "[encoded data removed]",
      "text/plain": [
       "<Figure size 432x288 with 1 Axes>"
      ]
     },
     "metadata": {
      "needs_background": "light"
     },
     "output_type": "display_data"
    },
    {
     "name": "stdout",
     "output_type": "stream",
     "text": [
      "\n",
      "\n",
      "\n",
      "\n",
      "\n",
      "               ConvModel                \n",
      "Epoch 1/15\n",
      "200/200 [==============================] - 41s 200ms/step - loss: 0.3109 - accuracy: 0.9119 - val_loss: 0.0760 - val_accuracy: 0.9764\n",
      "Epoch 2/15\n",
      "200/200 [==============================] - 36s 182ms/step - loss: 0.0683 - accuracy: 0.9790 - val_loss: 0.0458 - val_accuracy: 0.9847\n",
      "Epoch 3/15\n",
      "200/200 [==============================] - 37s 186ms/step - loss: 0.0478 - accuracy: 0.9854 - val_loss: 0.0366 - val_accuracy: 0.9892\n",
      "Epoch 4/15\n",
      "200/200 [==============================] - 36s 182ms/step - loss: 0.0368 - accuracy: 0.9887 - val_loss: 0.0314 - val_accuracy: 0.9898\n",
      "Epoch 5/15\n",
      "200/200 [==============================] - 38s 188ms/step - loss: 0.0285 - accuracy: 0.9907 - val_loss: 0.0295 - val_accuracy: 0.9905\n",
      "Epoch 6/15\n",
      "200/200 [==============================] - 38s 190ms/step - loss: 0.0228 - accuracy: 0.9933 - val_loss: 0.0287 - val_accuracy: 0.9901\n",
      "Epoch 7/15\n",
      "200/200 [==============================] - 37s 188ms/step - loss: 0.0186 - accuracy: 0.9942 - val_loss: 0.0250 - val_accuracy: 0.9914\n",
      "Epoch 8/15\n",
      "200/200 [==============================] - 38s 188ms/step - loss: 0.0141 - accuracy: 0.9956 - val_loss: 0.0390 - val_accuracy: 0.9877\n",
      "Epoch 9/15\n",
      "200/200 [==============================] - 37s 186ms/step - loss: 0.0125 - accuracy: 0.9962 - val_loss: 0.0268 - val_accuracy: 0.9914\n",
      "Epoch 10/15\n",
      "200/200 [==============================] - 37s 185ms/step - loss: 0.0105 - accuracy: 0.9969 - val_loss: 0.0310 - val_accuracy: 0.9905\n",
      "Epoch 11/15\n",
      "200/200 [==============================] - 38s 188ms/step - loss: 0.0088 - accuracy: 0.9972 - val_loss: 0.0314 - val_accuracy: 0.9910\n",
      "Epoch 12/15\n",
      "200/200 [==============================] - 38s 192ms/step - loss: 0.0082 - accuracy: 0.9974 - val_loss: 0.0304 - val_accuracy: 0.9906\n",
      "Epoch 13/15\n",
      "200/200 [==============================] - 38s 192ms/step - loss: 0.0063 - accuracy: 0.9982 - val_loss: 0.0339 - val_accuracy: 0.9914\n",
      "Epoch 14/15\n",
      "200/200 [==============================] - 40s 199ms/step - loss: 0.0059 - accuracy: 0.9982 - val_loss: 0.0352 - val_accuracy: 0.9902\n",
      "Epoch 15/15\n",
      "200/200 [==============================] - 37s 187ms/step - loss: 0.0046 - accuracy: 0.9984 - val_loss: 0.0381 - val_accuracy: 0.9898\n",
      "              precision    recall  f1-score   support\n",
      "\n",
      "           0       0.99      1.00      1.00       980\n",
      "           1       1.00      1.00      1.00      1135\n",
      "           2       1.00      0.99      0.99      1032\n",
      "           3       0.98      1.00      0.99      1010\n",
      "           4       0.99      0.99      0.99       982\n",
      "           5       0.99      0.98      0.98       892\n",
      "           6       0.99      0.99      0.99       958\n",
      "           7       0.98      0.99      0.99      1028\n",
      "           8       0.98      1.00      0.99       974\n",
      "           9       1.00      0.97      0.98      1009\n",
      "\n",
      "    accuracy                           0.99     10000\n",
      "   macro avg       0.99      0.99      0.99     10000\n",
      "weighted avg       0.99      0.99      0.99     10000\n",
      "\n"
     ]
    },
    {
     "data": {
      "image/png": "[encoded data removed]",
      "text/plain": [
       "<Figure size 432x288 with 1 Axes>"
      ]
     },
     "metadata": {
      "needs_background": "light"
     },
     "output_type": "display_data"
    },
    {
     "name": "stdout",
     "output_type": "stream",
     "text": [
      "\n",
      "\n",
      "\n",
      "\n",
      "\n"
     ]
    }
   ],
   "source": [
    "for model in [simple_model, conv_model]:\n",
    "    print(model.title.center(40))\n",
    "    history = model.fit(X_train, y_train_ohe, epochs=15, validation_data=(X_test, y_test_ohe), batch_size=300)\n",
    "    model.save(f\"{model.title}.h5\")\n",
    "\n",
    "    y_pred_ohe = model.predict(X_test)\n",
    "    y_pred = list(map(np.argmax, y_pred_ohe))\n",
    "    print(metrics.classification_report(y_test, y_pred))\n",
    "\n",
    "    plt.plot(history.history['accuracy'], color='green', label='Train')\n",
    "    plt.plot(history.history['val_accuracy'], color='red', label='Test')\n",
    "    plt.title('Accuracy')\n",
    "    plt.legend()\n",
    "    plt.show()\n",
    "\n",
    "    print('\\n' * 4)"
   ]
  }
 ],
 "metadata": {
  "kernelspec": {
   "display_name": "Python 3 (ipykernel)",
   "language": "python",
   "name": "python3"
  },
  "language_info": {
   "codemirror_mode": {
    "name": "ipython",
    "version": 3
   },
   "file_extension": ".py",
   "mimetype": "text/x-python",
   "name": "python",
   "nbconvert_exporter": "python",
   "pygments_lexer": "ipython3",
   "version": "3.10.0"
  }
 },
 "nbformat": 4,
 "nbformat_minor": 5
}
