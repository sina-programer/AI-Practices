{
 "cells": [
  {
   "cell_type": "code",
   "execution_count": 1,
   "id": "5b6c4c7d-6b9f-411c-976b-e763054a51e1",
   "metadata": {},
   "outputs": [],
   "source": [
    "from tensorflow.keras.layers import Flatten, Dense, Conv2D, Dropout, MaxPool2D, ZeroPadding2D\n",
    "from tensorflow.keras.utils import to_categorical\n",
    "from tensorflow.keras.models import Sequential\n",
    "from matplotlib import pyplot as plt\n",
    "from sklearn import metrics\n",
    "\n",
    "import numpy as np"
   ]
  },
  {
   "cell_type": "code",
   "execution_count": 2,
   "id": "0131b8ae-06e8-43a3-8d14-0cdff3da8fa8",
   "metadata": {},
   "outputs": [
    {
     "name": "stdout",
     "output_type": "stream",
     "text": [
      "shape X_train:  (60000, 28, 28)\n"
     ]
    }
   ],
   "source": [
    "X_train = np.load('Data/x_train.npy')\n",
    "X_test = np.load('Data/x_test.npy')\n",
    "y_train = np.load('Data/y_train.npy')\n",
    "y_test = np.load('Data/y_test.npy')\n",
    "\n",
    "print('shape X_train: ', np.shape(X_train))"
   ]
  },
  {
   "cell_type": "code",
   "execution_count": 3,
   "id": "2dd2866c-1bcb-4002-8080-8c77c1c4a6b9",
   "metadata": {},
   "outputs": [],
   "source": [
    "# scaling data\n",
    "X_train = X_train / 255\n",
    "X_test = X_test / 255"
   ]
  },
  {
   "cell_type": "code",
   "execution_count": 4,
   "id": "e09ca749-4121-43de-aa39-c399dcd3c479",
   "metadata": {},
   "outputs": [],
   "source": [
    "# convert numbers to a single member array(for gray images, if rgb convert to 3 member array)\n",
    "X_train = np.expand_dims(X_train, axis=3)\n",
    "X_test = np.expand_dims(X_test, axis=3)"
   ]
  },
  {
   "cell_type": "code",
   "execution_count": 5,
   "id": "039c2137-a5d2-4d0c-85c8-a98f01e48e84",
   "metadata": {},
   "outputs": [],
   "source": [
    "# One Hot Encoding y\n",
    "y_train_ohe = to_categorical(y_train)\n",
    "y_test_ohe = to_categorical(y_test)"
   ]
  },
  {
   "cell_type": "code",
   "execution_count": 6,
   "id": "2f0f64b3-7240-419d-8ea1-d20c98af75d8",
   "metadata": {},
   "outputs": [],
   "source": [
    "model = Sequential([\n",
    "    ZeroPadding2D(padding=(1, 1), input_shape=X_train[0].shape),\n",
    "    Conv2D(32, 3, activation='relu'),\n",
    "    MaxPool2D(pool_size=2, strides=2),\n",
    "    Conv2D(64, 3, activation='relu', padding='same'),\n",
    "    MaxPool2D(2, 2),\n",
    "\n",
    "    Flatten(),\n",
    "    Dense(128, activation='relu'),\n",
    "    Dropout(.2),\n",
    "    Dense(10, activation='softmax')\n",
    "])\n",
    "\n",
    "model.compile(\n",
    "    optimizer='adam',\n",
    "    loss='categorical_crossentropy',\n",
    "    metrics=['accuracy']\n",
    ")"
   ]
  },
  {
   "cell_type": "code",
   "execution_count": 7,
   "id": "1050e4cd-20c7-4025-8fe5-db7137f7107b",
   "metadata": {},
   "outputs": [
    {
     "name": "stdout",
     "output_type": "stream",
     "text": [
      "Model: \"sequential\"\n",
      "_________________________________________________________________\n",
      " Layer (type)                Output Shape              Param #   \n",
      "=================================================================\n",
      " zero_padding2d (ZeroPadding  (None, 30, 30, 1)        0         \n",
      " 2D)                                                             \n",
      "                                                                 \n",
      " conv2d (Conv2D)             (None, 28, 28, 32)        320       \n",
      "                                                                 \n",
      " max_pooling2d (MaxPooling2D  (None, 14, 14, 32)       0         \n",
      " )                                                               \n",
      "                                                                 \n",
      " conv2d_1 (Conv2D)           (None, 14, 14, 64)        18496     \n",
      "                                                                 \n",
      " max_pooling2d_1 (MaxPooling  (None, 7, 7, 64)         0         \n",
      " 2D)                                                             \n",
      "                                                                 \n",
      " flatten (Flatten)           (None, 3136)              0         \n",
      "                                                                 \n",
      " dense (Dense)               (None, 128)               401536    \n",
      "                                                                 \n",
      " dropout (Dropout)           (None, 128)               0         \n",
      "                                                                 \n",
      " dense_1 (Dense)             (None, 10)                1290      \n",
      "                                                                 \n",
      "=================================================================\n",
      "Total params: 421,642\n",
      "Trainable params: 421,642\n",
      "Non-trainable params: 0\n",
      "_________________________________________________________________\n"
     ]
    }
   ],
   "source": [
    "model.summary()"
   ]
  },
  {
   "cell_type": "code",
   "execution_count": 8,
   "id": "9b7ccbbf-12a6-401f-8af3-8998352aac88",
   "metadata": {},
   "outputs": [
    {
     "name": "stdout",
     "output_type": "stream",
     "text": [
      "Epoch 1/20\n",
      "200/200 [==============================] - 33s 160ms/step - loss: 0.3275 - accuracy: 0.9040 - val_loss: 0.0700 - val_accuracy: 0.9772\n",
      "Epoch 2/20\n",
      "200/200 [==============================] - 32s 162ms/step - loss: 0.0824 - accuracy: 0.9748 - val_loss: 0.0476 - val_accuracy: 0.9840\n",
      "Epoch 3/20\n",
      "200/200 [==============================] - 33s 164ms/step - loss: 0.0566 - accuracy: 0.9824 - val_loss: 0.0354 - val_accuracy: 0.9872\n",
      "Epoch 4/20\n",
      "200/200 [==============================] - 33s 165ms/step - loss: 0.0441 - accuracy: 0.9861 - val_loss: 0.0306 - val_accuracy: 0.9901\n",
      "Epoch 5/20\n",
      "200/200 [==============================] - 33s 165ms/step - loss: 0.0359 - accuracy: 0.9890 - val_loss: 0.0293 - val_accuracy: 0.9903\n",
      "Epoch 6/20\n",
      "200/200 [==============================] - 33s 163ms/step - loss: 0.0290 - accuracy: 0.9909 - val_loss: 0.0271 - val_accuracy: 0.9903\n",
      "Epoch 7/20\n",
      "200/200 [==============================] - 33s 164ms/step - loss: 0.0255 - accuracy: 0.9918 - val_loss: 0.0288 - val_accuracy: 0.9902\n",
      "Epoch 8/20\n",
      "200/200 [==============================] - 35s 175ms/step - loss: 0.0213 - accuracy: 0.9933 - val_loss: 0.0267 - val_accuracy: 0.9908\n",
      "Epoch 9/20\n",
      "200/200 [==============================] - 33s 164ms/step - loss: 0.0200 - accuracy: 0.9937 - val_loss: 0.0231 - val_accuracy: 0.9922\n",
      "Epoch 10/20\n",
      "200/200 [==============================] - 32s 160ms/step - loss: 0.0163 - accuracy: 0.9948 - val_loss: 0.0234 - val_accuracy: 0.9917\n",
      "Epoch 11/20\n",
      "200/200 [==============================] - 33s 164ms/step - loss: 0.0141 - accuracy: 0.9955 - val_loss: 0.0240 - val_accuracy: 0.9924\n",
      "Epoch 12/20\n",
      "200/200 [==============================] - 33s 166ms/step - loss: 0.0132 - accuracy: 0.9955 - val_loss: 0.0270 - val_accuracy: 0.9906\n",
      "Epoch 13/20\n",
      "200/200 [==============================] - 33s 165ms/step - loss: 0.0110 - accuracy: 0.9965 - val_loss: 0.0268 - val_accuracy: 0.9913\n",
      "Epoch 14/20\n",
      "200/200 [==============================] - 33s 168ms/step - loss: 0.0109 - accuracy: 0.9963 - val_loss: 0.0247 - val_accuracy: 0.9917\n",
      "Epoch 15/20\n",
      "200/200 [==============================] - 33s 165ms/step - loss: 0.0109 - accuracy: 0.9959 - val_loss: 0.0231 - val_accuracy: 0.9926\n",
      "Epoch 16/20\n",
      "200/200 [==============================] - 33s 166ms/step - loss: 0.0091 - accuracy: 0.9968 - val_loss: 0.0240 - val_accuracy: 0.9924\n",
      "Epoch 17/20\n",
      "200/200 [==============================] - 34s 168ms/step - loss: 0.0087 - accuracy: 0.9970 - val_loss: 0.0286 - val_accuracy: 0.9914\n",
      "Epoch 18/20\n",
      "200/200 [==============================] - 33s 166ms/step - loss: 0.0068 - accuracy: 0.9976 - val_loss: 0.0263 - val_accuracy: 0.9923\n",
      "Epoch 19/20\n",
      "200/200 [==============================] - 34s 168ms/step - loss: 0.0069 - accuracy: 0.9977 - val_loss: 0.0293 - val_accuracy: 0.9907\n",
      "Epoch 20/20\n",
      "200/200 [==============================] - 33s 167ms/step - loss: 0.0073 - accuracy: 0.9976 - val_loss: 0.0279 - val_accuracy: 0.9921\n",
      "              precision    recall  f1-score   support\n",
      "\n",
      "           0       0.99      1.00      0.99       980\n",
      "           1       0.99      1.00      1.00      1135\n",
      "           2       0.99      1.00      0.99      1032\n",
      "           3       0.99      1.00      0.99      1010\n",
      "           4       1.00      0.99      0.99       982\n",
      "           5       1.00      0.99      0.99       892\n",
      "           6       0.99      0.99      0.99       958\n",
      "           7       1.00      0.99      0.99      1028\n",
      "           8       0.99      0.99      0.99       974\n",
      "           9       0.98      0.99      0.99      1009\n",
      "\n",
      "    accuracy                           0.99     10000\n",
      "   macro avg       0.99      0.99      0.99     10000\n",
      "weighted avg       0.99      0.99      0.99     10000\n",
      "\n"
     ]
    },
    {
     "data": {
      "image/png": "[encoded data removed]",
      "text/plain": [
       "<Figure size 432x288 with 1 Axes>"
      ]
     },
     "metadata": {
      "needs_background": "light"
     },
     "output_type": "display_data"
    },
    {
     "name": "stdout",
     "output_type": "stream",
     "text": [
      "\n",
      "\n",
      "\n",
      "\n",
      "\n"
     ]
    }
   ],
   "source": [
    "history = model.fit(X_train, y_train_ohe, epochs=20, validation_data=(X_test, y_test_ohe), batch_size=300)\n",
    "model.save(f\"model.h5\")\n",
    "\n",
    "y_pred_ohe = model.predict(X_test)\n",
    "y_pred = list(map(np.argmax, y_pred_ohe))\n",
    "print(metrics.classification_report(y_test, y_pred))\n",
    "\n",
    "plt.plot(history.history['accuracy'], color='green', label='Train')\n",
    "plt.plot(history.history['val_accuracy'], color='red', label='Test')\n",
    "plt.title('Accuracy')\n",
    "plt.legend()\n",
    "plt.show()"
   ]
  }
 ],
 "metadata": {
  "kernelspec": {
   "display_name": "Python 3 (ipykernel)",
   "language": "python",
   "name": "python3"
  },
  "language_info": {
   "codemirror_mode": {
    "name": "ipython",
    "version": 3
   },
   "file_extension": ".py",
   "mimetype": "text/x-python",
   "name": "python",
   "nbconvert_exporter": "python",
   "pygments_lexer": "ipython3",
   "version": "3.10.0"
  }
 },
 "nbformat": 4,
 "nbformat_minor": 5
}
