{
 "cells": [
  {
   "cell_type": "code",
   "execution_count": 1,
   "id": "ba9b0723",
   "metadata": {},
   "outputs": [],
   "source": [
    "from matplotlib import pyplot as plt\n",
    "\n",
    "import tensorflow as tf\n",
    "import pandas as pd\n",
    "import numpy as np\n",
    "import os"
   ]
  },
  {
   "cell_type": "code",
   "execution_count": 2,
   "id": "2e834cee",
   "metadata": {
    "tags": []
   },
   "outputs": [],
   "source": [
    "def show_image(img, title='', cmap=plt.cm.gray_r):\n",
    "    plt.imshow(img, cmap=cmap)\n",
    "    plt.title(title)\n",
    "    plt.show()"
   ]
  },
  {
   "cell_type": "code",
   "execution_count": 3,
   "id": "9b78b248-1bc0-43d1-a846-6e50ee5cb363",
   "metadata": {},
   "outputs": [],
   "source": [
    "def predict(image, label):\n",
    "    show_image(image, title=label)\n",
    "    image = np.expand_dims(image, axis=0)\n",
    "\n",
    "    for model in models:\n",
    "        pred_ohe = model.predict(image)\n",
    "        print(f\"{model.title}: {np.argmax(pred_ohe)}\")"
   ]
  },
  {
   "cell_type": "code",
   "execution_count": 4,
   "id": "257be905-d778-4f4e-9f6a-8fc206f7b6ea",
   "metadata": {},
   "outputs": [],
   "source": [
    "X_train = np.load('Data/x_train.npy')\n",
    "X_test = np.load('Data/x_test.npy')\n",
    "y_train = np.load('Data/y_train.npy')\n",
    "y_test = np.load('Data/y_test.npy')"
   ]
  },
  {
   "cell_type": "code",
   "execution_count": 5,
   "id": "0b986181-a123-4e7d-b6d9-c058fadcbcec",
   "metadata": {},
   "outputs": [],
   "source": [
    "# scaling data\n",
    "X_train = X_train / 255\n",
    "X_test = X_test / 255"
   ]
  },
  {
   "cell_type": "code",
   "execution_count": 6,
   "id": "8364ce5a-1655-4696-9073-fe0dbdaf43da",
   "metadata": {},
   "outputs": [],
   "source": [
    "X_train = np.expand_dims(X_train, axis=3)\n",
    "X_test = np.expand_dims(X_test, axis=3)"
   ]
  },
  {
   "cell_type": "code",
   "execution_count": 7,
   "id": "bb0cedbb-8944-40b4-939a-92a02844ae16",
   "metadata": {},
   "outputs": [],
   "source": [
    "# One Hot Encoding y\n",
    "y_train_ohe = tf.keras.utils.to_categorical(y_train)\n",
    "y_test_ohe = tf.keras.utils.to_categorical(y_test)"
   ]
  },
  {
   "cell_type": "code",
   "execution_count": 8,
   "id": "83c2b08f",
   "metadata": {},
   "outputs": [],
   "source": [
    "model_pathes = list(filter(lambda path: path.endswith('.h5'), os.listdir()))\n",
    "models = list(map(tf.keras.models.load_model, model_pathes))"
   ]
  },
  {
   "cell_type": "code",
   "execution_count": 9,
   "id": "8ecd47e5-61e1-4b8b-af07-2e01e2211aec",
   "metadata": {},
   "outputs": [],
   "source": [
    "for model, path in zip(models, model_pathes):\n",
    "    model.title = path.rsplit('.', 1)[0]"
   ]
  },
  {
   "cell_type": "code",
   "execution_count": 10,
   "id": "db0a2bb5-476a-4a6b-b562-21204911c63f",
   "metadata": {},
   "outputs": [
    {
     "data": {
      "image/png": "[encoded data removed]",
      "text/plain": [
       "<Figure size 432x288 with 1 Axes>"
      ]
     },
     "metadata": {
      "needs_background": "light"
     },
     "output_type": "display_data"
    },
    {
     "name": "stdout",
     "output_type": "stream",
     "text": [
      "ConvModel: 2\n",
      "SimpleModel: 2\n"
     ]
    }
   ],
   "source": [
    "predict(X_test[1], y_test[1])"
   ]
  }
 ],
 "metadata": {
  "kernelspec": {
   "display_name": "Python 3 (ipykernel)",
   "language": "python",
   "name": "python3"
  },
  "language_info": {
   "codemirror_mode": {
    "name": "ipython",
    "version": 3
   },
   "file_extension": ".py",
   "mimetype": "text/x-python",
   "name": "python",
   "nbconvert_exporter": "python",
   "pygments_lexer": "ipython3",
   "version": "3.10.0"
  }
 },
 "nbformat": 4,
 "nbformat_minor": 5
}
