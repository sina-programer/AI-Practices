{
 "cells": [
  {
   "cell_type": "code",
   "execution_count": 1,
   "id": "d3a1a0e1",
   "metadata": {},
   "outputs": [],
   "source": [
    "import tensorflow_datasets\n",
    "import tensorflow as tf\n",
    "import numpy as np"
   ]
  },
  {
   "cell_type": "code",
   "execution_count": 2,
   "id": "a436fb70",
   "metadata": {},
   "outputs": [],
   "source": [
    "def normilize(image, label):\n",
    "    return tf.cast(image, tf.float32) / 256, label"
   ]
  },
  {
   "cell_type": "code",
   "execution_count": 3,
   "id": "886005e8",
   "metadata": {},
   "outputs": [],
   "source": [
    "(train, test), info = tensorflow_datasets.load('mnist', split=['train', 'test'], as_supervised=True, with_info=True)"
   ]
  },
  {
   "cell_type": "code",
   "execution_count": 4,
   "id": "a5ac7036",
   "metadata": {},
   "outputs": [
    {
     "data": {
      "text/plain": [
       "{'train': <SplitInfo num_examples=60000, num_shards=1>,\n",
       " 'test': <SplitInfo num_examples=10000, num_shards=1>}"
      ]
     },
     "execution_count": 4,
     "metadata": {},
     "output_type": "execute_result"
    }
   ],
   "source": [
    "info.splits"
   ]
  },
  {
   "cell_type": "code",
   "execution_count": 5,
   "id": "ef429428",
   "metadata": {},
   "outputs": [],
   "source": [
    "train = train.map(normilize)\n",
    "train = train.cache()\n",
    "train = train.shuffle(info.splits['train'].num_examples)\n",
    "train = train.batch(256)\n",
    "train = train.prefetch(tf.data.experimental.AUTOTUNE)"
   ]
  },
  {
   "cell_type": "code",
   "execution_count": 6,
   "id": "7b2581f0",
   "metadata": {},
   "outputs": [],
   "source": [
    "test = test.map(normilize)\n",
    "test = test.cache()\n",
    "test = test.batch(256)\n",
    "test = test.prefetch(tf.data.experimental.AUTOTUNE)"
   ]
  },
  {
   "cell_type": "code",
   "execution_count": 7,
   "id": "2994ddc9",
   "metadata": {},
   "outputs": [],
   "source": [
    "model = tf.keras.models.Sequential([\n",
    "    tf.keras.layers.Flatten(input_shape=(28, 28)),\n",
    "    tf.keras.layers.Dense(128, activation='relu'),\n",
    "    tf.keras.layers.Dense(64, activation='relu'),\n",
    "    tf.keras.layers.Dense(32, activation='relu'),\n",
    "    tf.keras.layers.Dense(10, activation='softmax')\n",
    "])"
   ]
  },
  {
   "cell_type": "code",
   "execution_count": 8,
   "id": "d10c295d",
   "metadata": {},
   "outputs": [],
   "source": [
    "model.compile(\n",
    "    optimizer = tf.keras.optimizers.Adam(.001),\n",
    "    loss = tf.keras.losses.SparseCategoricalCrossentropy(from_logits=True),\n",
    "    metrics = [tf.keras.metrics.SparseCategoricalAccuracy()]\n",
    ")"
   ]
  },
  {
   "cell_type": "code",
   "execution_count": 9,
   "id": "ca2887f6",
   "metadata": {},
   "outputs": [
    {
     "name": "stdout",
     "output_type": "stream",
     "text": [
      "Epoch 1/10\n"
     ]
    },
    {
     "name": "stderr",
     "output_type": "stream",
     "text": [
      "C:\\Users\\myself\\AppData\\Local\\Programs\\Python\\Python310\\lib\\site-packages\\tensorflow\\python\\util\\dispatch.py:1082: UserWarning: \"`sparse_categorical_crossentropy` received `from_logits=True`, but the `output` argument was produced by a sigmoid or softmax activation and thus does not represent logits. Was this intended?\"\n",
      "  return dispatch_target(*args, **kwargs)\n"
     ]
    },
    {
     "name": "stdout",
     "output_type": "stream",
     "text": [
      "235/235 [==============================] - 5s 9ms/step - loss: 0.4658 - sparse_categorical_accuracy: 0.8653 - val_loss: 0.1962 - val_sparse_categorical_accuracy: 0.9412\n",
      "Epoch 2/10\n",
      "235/235 [==============================] - 1s 5ms/step - loss: 0.1662 - sparse_categorical_accuracy: 0.9512 - val_loss: 0.1463 - val_sparse_categorical_accuracy: 0.9565\n",
      "Epoch 3/10\n",
      "235/235 [==============================] - 1s 5ms/step - loss: 0.1231 - sparse_categorical_accuracy: 0.9634 - val_loss: 0.1303 - val_sparse_categorical_accuracy: 0.9614\n",
      "Epoch 4/10\n",
      "235/235 [==============================] - 1s 5ms/step - loss: 0.0939 - sparse_categorical_accuracy: 0.9722 - val_loss: 0.0979 - val_sparse_categorical_accuracy: 0.9707\n",
      "Epoch 5/10\n",
      "235/235 [==============================] - 1s 5ms/step - loss: 0.0755 - sparse_categorical_accuracy: 0.9779 - val_loss: 0.0939 - val_sparse_categorical_accuracy: 0.9700\n",
      "Epoch 6/10\n",
      "235/235 [==============================] - 1s 5ms/step - loss: 0.0616 - sparse_categorical_accuracy: 0.9815 - val_loss: 0.0843 - val_sparse_categorical_accuracy: 0.9744\n",
      "Epoch 7/10\n",
      "235/235 [==============================] - 1s 5ms/step - loss: 0.0495 - sparse_categorical_accuracy: 0.9847 - val_loss: 0.0835 - val_sparse_categorical_accuracy: 0.9745\n",
      "Epoch 8/10\n",
      "235/235 [==============================] - 1s 5ms/step - loss: 0.0396 - sparse_categorical_accuracy: 0.9877 - val_loss: 0.1044 - val_sparse_categorical_accuracy: 0.9692\n",
      "Epoch 9/10\n",
      "235/235 [==============================] - 1s 5ms/step - loss: 0.0357 - sparse_categorical_accuracy: 0.9890 - val_loss: 0.0826 - val_sparse_categorical_accuracy: 0.9751\n",
      "Epoch 10/10\n",
      "235/235 [==============================] - 1s 5ms/step - loss: 0.0306 - sparse_categorical_accuracy: 0.9910 - val_loss: 0.0736 - val_sparse_categorical_accuracy: 0.9771\n"
     ]
    }
   ],
   "source": [
    "history = model.fit(train, epochs=10, validation_data=test)"
   ]
  }
 ],
 "metadata": {
  "kernelspec": {
   "display_name": "Python 3 (ipykernel)",
   "language": "python",
   "name": "python3"
  },
  "language_info": {
   "codemirror_mode": {
    "name": "ipython",
    "version": 3
   },
   "file_extension": ".py",
   "mimetype": "text/x-python",
   "name": "python",
   "nbconvert_exporter": "python",
   "pygments_lexer": "ipython3",
   "version": "3.10.0"
  }
 },
 "nbformat": 4,
 "nbformat_minor": 5
}
