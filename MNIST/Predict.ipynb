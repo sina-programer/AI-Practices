{
 "cells": [
  {
   "cell_type": "code",
   "execution_count": 1,
   "id": "ba9b0723",
   "metadata": {},
   "outputs": [],
   "source": [
    "from matplotlib import pyplot as plt\n",
    "from sklearn import datasets\n",
    "\n",
    "import pandas as pd\n",
    "import numpy as np"
   ]
  },
  {
   "cell_type": "code",
   "execution_count": 2,
   "id": "adb67a00-058e-4173-b95d-da2d497a77a6",
   "metadata": {},
   "outputs": [],
   "source": [
    "import os\n",
    "import pickle\n",
    "\n",
    "folder = 'objects'\n",
    "\n",
    "def load(obj_name, folder=folder):\n",
    "    with open(os.path.join(folder, obj_name), 'rb') as file:\n",
    "        return pickle.load(file)"
   ]
  },
  {
   "cell_type": "code",
   "execution_count": 3,
   "id": "2e834cee",
   "metadata": {},
   "outputs": [],
   "source": [
    "def show_image(img, title=''):\n",
    "    plt.imshow(img, cmap=plt.cm.gray_r)\n",
    "    plt.title(title)\n",
    "    plt.show()"
   ]
  },
  {
   "cell_type": "code",
   "execution_count": 4,
   "id": "9b78b248-1bc0-43d1-a846-6e50ee5cb363",
   "metadata": {},
   "outputs": [],
   "source": [
    "def predict(image, label):\n",
    "    show_image(image.reshape(dims), title=label)\n",
    "\n",
    "    for model in models:\n",
    "        print(f\"{type(model).__name__}: {model.predict([image])[0]}\")"
   ]
  },
  {
   "cell_type": "code",
   "execution_count": 5,
   "id": "ff3df660",
   "metadata": {},
   "outputs": [],
   "source": [
    "data = datasets.load_digits()"
   ]
  },
  {
   "cell_type": "code",
   "execution_count": 6,
   "id": "58e79a67",
   "metadata": {},
   "outputs": [],
   "source": [
    "# X = data.images.reshape(len(data.images), -1)\n",
    "X = data.data\n",
    "y = data.target\n",
    "dims = np.shape(data.images[0])"
   ]
  },
  {
   "cell_type": "code",
   "execution_count": 7,
   "id": "83c2b08f",
   "metadata": {},
   "outputs": [],
   "source": [
    "models = list(map(load, os.listdir(folder)))"
   ]
  },
  {
   "cell_type": "code",
   "execution_count": 8,
   "id": "db0a2bb5-476a-4a6b-b562-21204911c63f",
   "metadata": {},
   "outputs": [
    {
     "data": {
      "image/png": "[encoded data removed]",
      "text/plain": [
       "<Figure size 432x288 with 1 Axes>"
      ]
     },
     "metadata": {
      "needs_background": "light"
     },
     "output_type": "display_data"
    },
    {
     "name": "stdout",
     "output_type": "stream",
     "text": [
      "AdaBoostClassifier: 3\n",
      "DecisionTreeClassifier: 2\n",
      "GradientBoostingClassifier: 2\n",
      "KNeighborsClassifier: 2\n",
      "RandomForestClassifier: 2\n",
      "SVC: 2\n"
     ]
    }
   ],
   "source": [
    "predict(X[2], y[2])"
   ]
  }
 ],
 "metadata": {
  "kernelspec": {
   "display_name": "Python 3 (ipykernel)",
   "language": "python",
   "name": "python3"
  },
  "language_info": {
   "codemirror_mode": {
    "name": "ipython",
    "version": 3
   },
   "file_extension": ".py",
   "mimetype": "text/x-python",
   "name": "python",
   "nbconvert_exporter": "python",
   "pygments_lexer": "ipython3",
   "version": "3.10.0"
  }
 },
 "nbformat": 4,
 "nbformat_minor": 5
}
