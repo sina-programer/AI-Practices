{
 "cells": [
  {
   "cell_type": "code",
   "execution_count": 1,
   "id": "ba9b0723",
   "metadata": {},
   "outputs": [],
   "source": [
    "from matplotlib import pyplot as plt\n",
    "from functools import partial\n",
    "from sklearn import datasets\n",
    "\n",
    "import pandas as pd\n",
    "import numpy as np\n",
    "import os"
   ]
  },
  {
   "cell_type": "code",
   "execution_count": 2,
   "id": "adb67a00-058e-4173-b95d-da2d497a77a6",
   "metadata": {},
   "outputs": [],
   "source": [
    "import pickle\n",
    "\n",
    "def load(path):\n",
    "    with open(path, 'rb') as handler:\n",
    "        return pickle.load(handler)"
   ]
  },
  {
   "cell_type": "code",
   "execution_count": 3,
   "id": "dd50674d",
   "metadata": {},
   "outputs": [],
   "source": [
    "folder = 'models'\n",
    "join_folder = partial(os.path.join, folder)"
   ]
  },
  {
   "cell_type": "code",
   "execution_count": 4,
   "id": "2e834cee",
   "metadata": {},
   "outputs": [],
   "source": [
    "def show_image(image, title=''):\n",
    "    plt.imshow(image, cmap=plt.cm.gray_r)\n",
    "    plt.title(title)\n",
    "    plt.show()"
   ]
  },
  {
   "cell_type": "code",
   "execution_count": 5,
   "id": "9b78b248-1bc0-43d1-a846-6e50ee5cb363",
   "metadata": {},
   "outputs": [],
   "source": [
    "def predict(image, label):\n",
    "    show_image(image.reshape(dimensions), title=label)\n",
    "\n",
    "    for model in models:\n",
    "        print(f\"{type(model).__name__}: {model.predict([image])[0]}\")"
   ]
  },
  {
   "cell_type": "code",
   "execution_count": 6,
   "id": "ff3df660",
   "metadata": {},
   "outputs": [],
   "source": [
    "data = datasets.load_digits()"
   ]
  },
  {
   "cell_type": "code",
   "execution_count": 7,
   "id": "58e79a67",
   "metadata": {},
   "outputs": [],
   "source": [
    "# X = data.images.reshape(len(data.images), -1)\n",
    "X = data.data\n",
    "y = data.target\n",
    "dimensions = np.shape(data.images[0])"
   ]
  },
  {
   "cell_type": "code",
   "execution_count": 9,
   "id": "83c2b08f",
   "metadata": {},
   "outputs": [],
   "source": [
    "models_path = list(map(join_folder, os.listdir(folder)))\n",
    "models = list(map(load, models_path))"
   ]
  },
  {
   "cell_type": "code",
   "execution_count": 11,
   "id": "db0a2bb5-476a-4a6b-b562-21204911c63f",
   "metadata": {},
   "outputs": [
    {
     "data": {
      "image/png": "[encoded data removed]",
      "text/plain": [
       "<Figure size 432x288 with 1 Axes>"
      ]
     },
     "metadata": {
      "needs_background": "light"
     },
     "output_type": "display_data"
    },
    {
     "name": "stdout",
     "output_type": "stream",
     "text": [
      "RandomForestClassifier: 4\n"
     ]
    }
   ],
   "source": [
    "idx = 4\n",
    "predict(X[idx], y[idx])"
   ]
  }
 ],
 "metadata": {
  "kernelspec": {
   "display_name": "Python 3 (ipykernel)",
   "language": "python",
   "name": "python3"
  },
  "language_info": {
   "codemirror_mode": {
    "name": "ipython",
    "version": 3
   },
   "file_extension": ".py",
   "mimetype": "text/x-python",
   "name": "python",
   "nbconvert_exporter": "python",
   "pygments_lexer": "ipython3",
   "version": "3.10.0"
  }
 },
 "nbformat": 4,
 "nbformat_minor": 5
}
