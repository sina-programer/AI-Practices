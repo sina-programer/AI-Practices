{
 "cells": [
  {
   "cell_type": "code",
   "execution_count": 1,
   "id": "065388c0-24fb-4a46-9c99-d936d417283a",
   "metadata": {},
   "outputs": [],
   "source": [
    "from sklearn import metrics, datasets\n",
    "from sklearn.model_selection import train_test_split"
   ]
  },
  {
   "cell_type": "code",
   "execution_count": 2,
   "id": "fe3a463e-da4b-4c5e-9d07-aad67674e608",
   "metadata": {},
   "outputs": [],
   "source": [
    "import pickle\n",
    "\n",
    "def save(obj, path):\n",
    "    with open(path, 'wb') as handler:\n",
    "        return pickle.dump(obj, handler)"
   ]
  },
  {
   "cell_type": "code",
   "execution_count": 3,
   "id": "7d0fb302",
   "metadata": {},
   "outputs": [],
   "source": [
    "import os\n",
    "\n",
    "folder = 'models'\n",
    "if not os.path.exists(folder):\n",
    "    os.mkdir(folder)"
   ]
  },
  {
   "cell_type": "code",
   "execution_count": 4,
   "id": "5c13db67-ac98-40b4-97a4-d5047a00250f",
   "metadata": {},
   "outputs": [],
   "source": [
    "data = datasets.load_digits()\n",
    "\n",
    "# X = data.images.reshape(len(data.images), -1)  # flat images\n",
    "X = data.data\n",
    "y = data.target\n",
    "\n",
    "X_train, X_test, y_train, y_test = train_test_split(X, y, random_state=123)"
   ]
  },
  {
   "cell_type": "code",
   "execution_count": 5,
   "id": "d2cb7ceb-b414-4dad-8172-ef5b9d3e1589",
   "metadata": {},
   "outputs": [],
   "source": [
    "# RF, SVC & KNN work well on this data (based on my experience)\n",
    "from sklearn.ensemble import RandomForestClassifier\n",
    "\n",
    "model = RandomForestClassifier(random_state=321)\n",
    "model.fit(X_train, y_train)\n",
    "save(model, os.path.join(folder, type(model).__name__))"
   ]
  },
  {
   "cell_type": "code",
   "execution_count": 6,
   "id": "7445d68d",
   "metadata": {},
   "outputs": [
    {
     "name": "stdout",
     "output_type": "stream",
     "text": [
      "              precision    recall  f1-score   support\n",
      "\n",
      "           0       1.00      0.98      0.99        52\n",
      "           1       1.00      0.91      0.95        46\n",
      "           2       0.98      0.98      0.98        41\n",
      "           3       0.97      0.95      0.96        41\n",
      "           4       0.98      0.96      0.97        53\n",
      "           5       0.92      1.00      0.96        44\n",
      "           6       0.98      1.00      0.99        47\n",
      "           7       1.00      0.95      0.98        43\n",
      "           8       0.91      1.00      0.95        41\n",
      "           9       0.95      0.95      0.95        42\n",
      "\n",
      "    accuracy                           0.97       450\n",
      "   macro avg       0.97      0.97      0.97       450\n",
      "weighted avg       0.97      0.97      0.97       450\n",
      "\n"
     ]
    }
   ],
   "source": [
    "y_pred = model.predict(X_test)\n",
    "print(metrics.classification_report(y_pred, y_test))"
   ]
  }
 ],
 "metadata": {
  "kernelspec": {
   "display_name": "Python 3 (ipykernel)",
   "language": "python",
   "name": "python3"
  },
  "language_info": {
   "codemirror_mode": {
    "name": "ipython",
    "version": 3
   },
   "file_extension": ".py",
   "mimetype": "text/x-python",
   "name": "python",
   "nbconvert_exporter": "python",
   "pygments_lexer": "ipython3",
   "version": "3.10.0"
  }
 },
 "nbformat": 4,
 "nbformat_minor": 5
}
