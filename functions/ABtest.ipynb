{
 "cells": [
  {
   "cell_type": "code",
   "execution_count": 1,
   "id": "63a019e3-d8df-4be0-984d-0bd00f9908eb",
   "metadata": {},
   "outputs": [],
   "source": [
    "import pandas as pd\n",
    "import numpy as np"
   ]
  },
  {
   "cell_type": "code",
   "execution_count": 2,
   "id": "ec9494af-6845-4249-ba50-85015366b1a3",
   "metadata": {},
   "outputs": [],
   "source": [
    "def ABtest(x1, x2, n=1000):\n",
    "    diff = x2.mean() - x1.mean()\n",
    "\n",
    "    data = pd.DataFrame(columns=['label', 'value'])\n",
    "    for y, x in enumerate([x1, x2]):\n",
    "        data = pd.concat([data, pd.DataFrame({'label': y, 'value': x})])\n",
    "    data = data.reset_index(drop=True)\n",
    "\n",
    "    result = np.empty(n)\n",
    "    for i in np.arange(n):\n",
    "        data['label'] = np.random.randint(0, 2, len(data))\n",
    "        result[i] = data.groupby('label').mean().diff().loc[1, 'value']\n",
    "\n",
    "    return len(result[result >= diff]) / n  # probability of being a random swing between x1-x2"
   ]
  },
  {
   "cell_type": "code",
   "execution_count": 3,
   "id": "f29a27e8-7405-4a56-941c-8f241107a050",
   "metadata": {},
   "outputs": [],
   "source": [
    "a = np.array([23, 21, 19, 24, 35, 17, 18, 24, 33, 27, 21, 23])\n",
    "b = np.array([31, 28, 19, 24, 32, 27, 16, 41, 23, 32, 29, 33])"
   ]
  },
  {
   "cell_type": "code",
   "execution_count": 4,
   "id": "9cd2598c-c9b3-4d3b-9b76-824d5ea15fd8",
   "metadata": {},
   "outputs": [
    {
     "data": {
      "text/plain": [
       "0.062"
      ]
     },
     "execution_count": 4,
     "metadata": {},
     "output_type": "execute_result"
    }
   ],
   "source": [
    "ABtest(a, b)"
   ]
  },
  {
   "cell_type": "code",
   "execution_count": 5,
   "id": "36f0eac1-c487-493d-b98f-9d789779fe44",
   "metadata": {},
   "outputs": [
    {
     "data": {
      "text/plain": [
       "0.0627"
      ]
     },
     "execution_count": 5,
     "metadata": {},
     "output_type": "execute_result"
    }
   ],
   "source": [
    "n = 20  # several tests?\n",
    "history = np.empty(n)\n",
    "for i in np.arange(n):\n",
    "    history[i] = ABtest(a, b)\n",
    "\n",
    "history.mean()"
   ]
  },
  {
   "cell_type": "code",
   "execution_count": 6,
   "id": "8d2aeedd-9e6d-4d25-ae6e-b868defa08de",
   "metadata": {},
   "outputs": [
    {
     "data": {
      "text/plain": [
       "array([0.051, 0.066, 0.058, 0.072, 0.056, 0.057, 0.064, 0.069, 0.08 ,\n",
       "       0.061, 0.059, 0.053, 0.06 , 0.072, 0.072, 0.062, 0.07 , 0.061,\n",
       "       0.058, 0.053])"
      ]
     },
     "execution_count": 6,
     "metadata": {},
     "output_type": "execute_result"
    }
   ],
   "source": [
    "history"
   ]
  }
 ],
 "metadata": {
  "kernelspec": {
   "display_name": "Python 3 (ipykernel)",
   "language": "python",
   "name": "python3"
  },
  "language_info": {
   "codemirror_mode": {
    "name": "ipython",
    "version": 3
   },
   "file_extension": ".py",
   "mimetype": "text/x-python",
   "name": "python",
   "nbconvert_exporter": "python",
   "pygments_lexer": "ipython3",
   "version": "3.10.0"
  }
 },
 "nbformat": 4,
 "nbformat_minor": 5
}
